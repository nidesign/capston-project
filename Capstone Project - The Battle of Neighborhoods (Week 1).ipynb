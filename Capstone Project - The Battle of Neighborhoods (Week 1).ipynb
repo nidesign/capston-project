{
 "cells": [
  {
   "cell_type": "markdown",
   "metadata": {},
   "source": [
    "# Capstone Project - The Battle of Neighbourhoods"
   ]
  },
  {
   "cell_type": "markdown",
   "metadata": {},
   "source": [
    "---"
   ]
  },
  {
   "cell_type": "markdown",
   "metadata": {},
   "source": [
    "## Introduction"
   ]
  },
  {
   "cell_type": "markdown",
   "metadata": {},
   "source": [
    "#### New York City's demographics show that it is a large and ethnically diverse metropolis. It is the largest city in the United States with a long history of international immigration. With an estimated 2018 population of 8,398,748 distributed over about 302.6 square miles (784 km2), New York is also the most densely populated major city in the United States. Located at the southern tip of the U.S. state of New York, the city is the center of the New York metropolitan area, the largest metropolitan area in the world by urban landmass. With almost 20 million people in its metropolitan statistical area and approximately 23 million in its combined statistical area, it is one of the world's most populous megacities.\n",
    "\n",
    "#### New York City has been described as the cultural, financial, and media capital of the world, significantly influencing commerce, entertainment, research, technology, education, politics, tourism, art, fashion, and sports.\n",
    "\n",
    "#### In 2017, the city had an estimated population density of 28,491 inhabitants per square mile (11,000/km2), rendering it the nation's most densely populated of all municipalities (of more than 100,000). Geographically co-extensive with New York County, the borough of Manhattan's 2017 population density of 72,918 inhabitants per square mile (28,154/km2) makes it the highest of any county in the United States and higher than the density of any individual American city. Over the last decade the city has been growing faster than the region. The New York region continues to be by far the leading metropolitan gateway for legal immigrants admitted into the United States. New York City has also been a major point of entry for immigrants; the term \"melting pot\" was coined to describe densely populated immigrant neighbourhoods on the Lower East Side. As many as 800 languages are spoken in New York, making it the most linguistically diverse city in the world. English remains the most widely spoken language, although there are areas in the outer boroughs in which up to 25% of people speak English as an alternate language, and/or have limited or no English language fluency. English is least spoken in neighbourhoods such as Flushing, Sunset Park, and Corona. With its diverse culture, comes diverse food items. There are many restaurants in New York City, each belonging to different categories like Chinese, Indian, and French etc.[1]\n",
    "\n",
    "### Regarding the New York city is a multicultural city and a sizable amount of its population is immigrants, hence; it is possible that a great polpulation are interested to try the indian foods.\n",
    "\n",
    "### Problem: To find the answers to the following questions:\n",
    "\n",
    "#### • List and visualize all major parts of New York City that has great Indian restaurants.\n",
    "#### • what is best location in New York City for Indian Cuisine?\n",
    "#### • which areas have potential Indian Restaurant Market?\n",
    "#### • which all areas lack Indian Restaurants?\n",
    "#### • which is the best place to stay if you prefer Indian Cuisine?\n",
    "\n",
    "## Data\n",
    "\n",
    "#### New York City's demographics show that it is a large and ethnically diverse metropolis. With its diverse culture, comes diverse food items. There are many restaurants in New York City, each belonging to different categories like Chinese, Indian, and French etc.\n",
    "\n",
    "### For this project we need the following data:\n",
    "\n",
    "####  New York City data that contains list Boroughs, Neighbourhoods along with their latitude and longitude.\n",
    "####  Data source : https://cocl.us/new_york_dataset\n",
    "####  Description: This data set contains the required information. And we will use this data set to explore various neighbourhoods of New York City\n",
    "####  Indian restaurants in each neighbourhood of New York City.\n",
    "####  Data source : Foursquare API\n",
    "####  Description: By using this API we will get all the venues in each neighbourhood. We can filter these venues to get only Indian restaurants.\n",
    "####  GeoSpace data\n",
    "####  Data source : https://data.cityofnewyork.us/City-Government/BoroughBoundaries/tqmj-j8zm\n",
    "####  Description: By using this geo space data we will get the New York Borough boundaries that will help us visualize choropleth map.\n",
    "----\n",
    "#### [1]: https://en.wikipedia.org/wiki/New_York_City"
   ]
  },
  {
   "cell_type": "code",
   "execution_count": null,
   "metadata": {},
   "outputs": [],
   "source": []
  }
 ],
 "metadata": {
  "kernelspec": {
   "display_name": "Python 3",
   "language": "python",
   "name": "python3"
  },
  "language_info": {
   "codemirror_mode": {
    "name": "ipython",
    "version": 3
   },
   "file_extension": ".py",
   "mimetype": "text/x-python",
   "name": "python",
   "nbconvert_exporter": "python",
   "pygments_lexer": "ipython3",
   "version": "3.7.6"
  }
 },
 "nbformat": 4,
 "nbformat_minor": 4
}
